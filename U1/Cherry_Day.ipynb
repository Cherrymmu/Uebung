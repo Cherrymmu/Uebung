{
  "nbformat": 4,
  "nbformat_minor": 0,
  "metadata": {
    "colab": {
      "provenance": [],
      "gpuType": "T4",
      "authorship_tag": "ABX9TyO+u07EbM2Ilo4CRVBwYpkh",
      "include_colab_link": true
    },
    "kernelspec": {
      "name": "python3",
      "display_name": "Python 3"
    },
    "language_info": {
      "name": "python"
    },
    "accelerator": "GPU"
  },
  "cells": [
    {
      "cell_type": "markdown",
      "metadata": {
        "id": "view-in-github",
        "colab_type": "text"
      },
      "source": [
        "<a href=\"https://colab.research.google.com/github/Cherrymmu/Uebung/blob/main/U1/Cherry_Day.ipynb\" target=\"_parent\"><img src=\"https://colab.research.google.com/assets/colab-badge.svg\" alt=\"Open In Colab\"/></a>"
      ]
    },
    {
      "cell_type": "code",
      "source": [
        "import random as r\n",
        "\n",
        "def rand_wahl():\n",
        "    random_value = r.random()\n",
        "    if random_value < 0.25:\n",
        "        random_value = 1\n",
        "\n",
        "    elif random_value < 0.5:\n",
        "        random_value = 2\n",
        "\n",
        "    elif random_value < 0.75:\n",
        "        random_value = 3\n",
        "\n",
        "    else:\n",
        "        random_value = 4\n",
        "\n",
        "    return random_value\n",
        "\n",
        "\n",
        "class Cherry_Day:\n",
        "  wake = 6\n",
        "  plan = '청파감리교회'\n",
        "  chor = '성가대'\n",
        "\n",
        "  def morning(self):\n",
        "    print(f\"아침에 {Cherry_Day.wake}에 일어나 {Cherry_Day.plan}에 가서 {Cherry_Day.chor}를 할 준비를 했습니다. \")\n",
        "\n",
        "  # 어떤 교통수단을 이용할지 골라볼까요?\n",
        "  def train(self):\n",
        "    print(f\"가차표가 있었습니다. \")\n",
        "\n",
        "  def bus(self):\n",
        "    print(f\"버스를 타야만 했어요. \")\n",
        "    random_value = rand_wahl()\n",
        "    if (random_value <= 2):\n",
        "      print(\"내리자마자 시간에 맞춰서 버스를 타서 지각을 안했어요 save~\")\n",
        "    else:\n",
        "      print(\"아쉽게도 버스 시간을 못맞춰서 지각을 했어요ㅠㅠ \")\n",
        "\n",
        "  def auto(self):\n",
        "    print(f\"언니차 뽑았다 널 데리러가~ \")\n",
        "\n",
        "class Date(Cherry_Day):\n",
        "  def __init__(self, name):\n",
        "    self.name = name\n",
        "\n",
        "  def dinner(self):\n",
        "    random_value = rand_wahl()\n",
        "    if(random_value == 1):\n",
        "      print (\"오늘은 일식 ~🍣\")\n",
        "\n",
        "    elif(random_value == 2):\n",
        "      print(\"고급지게 먹어볼까? 이탈리안! 🍝\")\n",
        "\n",
        "    elif(random_value == 3):\n",
        "      print(\"Pizza 좋아요옹 🍕\")\n",
        "\n",
        "    else:\n",
        "      print(\"치킨이 최고야아아ㅏ 🍗\")\n",
        "\n",
        "채림 = Date(\"채림\")\n",
        "\n",
        "print()\n",
        "print(\"채림이의 하루\")\n",
        "print(\"*\" * 20)\n",
        "\n",
        "채림.morning()\n",
        "채림.train()\n",
        "채림.bus()\n",
        "채림.auto()\n",
        "\n",
        "채림.dinner()\n"
      ],
      "metadata": {
        "colab": {
          "base_uri": "https://localhost:8080/"
        },
        "id": "BVr63BsVQ3G9",
        "outputId": "6b619774-f30e-4f38-cb2b-f3107961c44f"
      },
      "execution_count": null,
      "outputs": [
        {
          "output_type": "stream",
          "name": "stdout",
          "text": [
            "\n",
            "채림이의 하루\n",
            "********************\n",
            "아침에 6에 일어나 청파감리교회에 가서 성가대를 할 준비를 했습니다. \n",
            "가차표가 있었습니다. \n",
            "버스를 타야만 했어요. \n",
            "내리자마자 시간에 맞춰서 버스를 타서 지각을 안했어요 save~\n",
            "언니차 뽑았다 널 데리러가~ \n",
            "치킨이 최고야아아ㅏ 🍗\n"
          ]
        }
      ]
    },
    {
      "cell_type": "code",
      "source": [],
      "metadata": {
        "id": "XmbH3xnQwC7X"
      },
      "execution_count": null,
      "outputs": []
    }
  ]
}